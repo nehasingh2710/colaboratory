{
 "cells": [
  {
   "cell_type": "markdown",
   "metadata": {},
   "source": [
    "# Cyber Security Base\n",
    "by [University of Helsinki](https://www.helsinki.fi/en) and [mooc.fi](https://mooc.fi/) in collaboration with [F-Secure](https://www.f-secure.com/)\n",
    "\n",
    "### Chapters:\n",
    "1. Introduction to Cyber Security\n",
    "2. Securing Software\n",
    "3. Course Project I\n",
    "4. Advanced Topics\n",
    "5. Course Project II\n",
    "6. Capture the Flag"
   ]
  },
  {
   "cell_type": "markdown",
   "metadata": {},
   "source": [
    "## 1. Introduction to Cybersecurity"
   ]
  },
  {
   "cell_type": "markdown",
   "metadata": {},
   "source": [
    "##"
   ]
  }
 ],
 "metadata": {
  "kernelspec": {
   "display_name": "Python 3",
   "language": "python",
   "name": "python3"
  },
  "language_info": {
   "codemirror_mode": {
    "name": "ipython",
    "version": 3
   },
   "file_extension": ".py",
   "mimetype": "text/x-python",
   "name": "python",
   "nbconvert_exporter": "python",
   "pygments_lexer": "ipython3",
   "version": "3.6.6"
  }
 },
 "nbformat": 4,
 "nbformat_minor": 2
}
