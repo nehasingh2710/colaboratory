{
 "cells": [
  {
   "cell_type": "markdown",
   "metadata": {},
   "source": [
    "# Cyber Security Base\n",
    "by [University of Helsinki](https://www.helsinki.fi/en) and [mooc.fi](https://mooc.fi/) in collaboration with [F-Secure](https://www.f-secure.com/)\n",
    "\n",
    "### Chapters:\n",
    "1. Introduction to Cyber Security\n",
    "2. Securing Software\n",
    "3. Course Project I\n",
    "4. Advanced Topics\n",
    "5. Course Project II\n",
    "6. Capture the Flag"
   ]
  },
  {
   "cell_type": "markdown",
   "metadata": {},
   "source": [
    "## 1. Introduction to Cybersecurity"
   ]
  },
  {
   "cell_type": "markdown",
   "metadata": {},
   "source": [
    "## Basic definitions\n",
    "\n",
    "- Asset: Is what is being protected, it has value to its owner. It can be tangible (Server) or intangible (Data)\n",
    "- Threat: Is the intention to cause damage. For cyber security this can be defined as a hostile act aimed by an attacker at an asset. Regardless of the attacker's intent to do no harm, a threat is still a threat. The attacker posing a threat is commonly called a threat actor.\n",
    "- Vulnerability: Is a defect in a target system. This defect may be a bug in application code, or a flaw in the design of the system. A vulnerabilities can also be a consequence of improper configuration or user action.\n",
    "- Exploit: Is a way to take advantage of a known vulnerability. The usual objective is to take control over the asset. (Social engineering, commonly considered a simple scam, is one kind of exploit.)"
   ]
  },
  {
   "cell_type": "markdown",
   "metadata": {},
   "source": [
    "**Rising complexity of software products:** *Different parts of the systems may be developed by different vendors, but need to interoperate. Moreover, most current systems are based on software frameworks which enlarge the code footprint of even small applications, and/or are extensible with/via plugins and addons.*"
   ]
  },
  {
   "cell_type": "markdown",
   "metadata": {},
   "source": [
    "**Vulnerability Databases:**\n",
    "- [National Vulnerability Database](https://web.nvd.nist.gov/view/vuln/statistics)\n",
    "- [Commen Vulnerabilities and Exposure](https://cve.mitre.org/index.html)"
   ]
  },
  {
   "cell_type": "markdown",
   "metadata": {},
   "source": [
    "[Cyber Security: It's all about the coders](https://www.youtube.com/watch?v=fi44mL7mcq0)\n",
    "- **CIA**: Confidentiality - Integrity - Availability\n",
    "- What should my software do -> What shouldn't my software do? Software Security Mindset for coders\n",
    "\n",
    "[Cyber Self-Defense](https://www.youtube.com/watch?v=knLDY7hRm5I)\n",
    "- 50% of attacks are successful. But those successful ones happen within the first hour.\n",
    "- Estimated cost of data breach is 3.79 million USD (2015)\n",
    "- Hacktivists, Criminals, APT\n",
    "- People are the new perimeter. Not just better tools, but a layered defense model.\n",
    "- Relevant for personal reasons, as well as professional\n",
    "- Social Engineering is the MO of a Cyber criminal (Phishing, Credential Harvesting,...)\n",
    "- Rules for Cyber Self-Defense:\n",
    "  - Don't Click (2x)\n",
    "  - Use strong passwords (length is superior to complexity)\n",
    "  - Don't reuse passwords\n",
    "  - Don't use passwords (2FA)\n",
    "  - Patch your software\n",
    "- Trust, but verify\n",
    "\n",
    "[Everyday cybercrime](https://www.ted.com/talks/james_lyne_everyday_cybercrime_and_what_you_can_do_about_it?language=en)\n",
    "- Malicious Software is commercial (for example: BlackHole exploit kit)"
   ]
  },
  {
   "cell_type": "code",
   "execution_count": null,
   "metadata": {},
   "outputs": [],
   "source": []
  }
 ],
 "metadata": {
  "kernelspec": {
   "display_name": "Python 3",
   "language": "python",
   "name": "python3"
  },
  "language_info": {
   "codemirror_mode": {
    "name": "ipython",
    "version": 3
   },
   "file_extension": ".py",
   "mimetype": "text/x-python",
   "name": "python",
   "nbconvert_exporter": "python",
   "pygments_lexer": "ipython3",
   "version": "3.6.6"
  }
 },
 "nbformat": 4,
 "nbformat_minor": 2
}
